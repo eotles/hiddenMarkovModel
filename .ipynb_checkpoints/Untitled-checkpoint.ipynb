{
 "cells": [
  {
   "cell_type": "code",
   "execution_count": 70,
   "metadata": {
    "collapsed": false
   },
   "outputs": [],
   "source": [
    "'''\n",
    "Created in Fall 2016\n",
    "\n",
    "@author: eotles\n",
    "\n",
    "Based on XXX\n",
    "'''\n",
    "#import statements\n",
    "import random as rand\n",
    "import numpy as np\n",
    "import sys as sys"
   ]
  },
  {
   "cell_type": "code",
   "execution_count": 76,
   "metadata": {
    "collapsed": true
   },
   "outputs": [],
   "source": [
    "pi = {'a': 0.5,\n",
    "      'b': 0.5\n",
    "     }\n",
    "\n",
    "A = {'a': {'a': 0.9, 'b': 0.1},\n",
    "     'b': {'a': 0.5, 'b': 0.5}\n",
    "    }\n",
    "\n",
    "B = {'a': {'aa': 0.3, 'ab': 0.2, 'ac': 0.2, 'ba': 0.1, 'bb': 0.1, 'bc': 0.1},\n",
    "     'b': {'aa': 0.1, 'ab': 0.1, 'ac': 0.1, 'ba': 0.1, 'bb': 0.2, 'bc': 0.4}\n",
    "    }"
   ]
  },
  {
   "cell_type": "code",
   "execution_count": 77,
   "metadata": {
    "collapsed": false
   },
   "outputs": [],
   "source": [
    "def generate_HMM_obs(A, B, pi, n_obs):\n",
    "    def check(A, B, pi):\n",
    "        pass\n",
    "    \n",
    "    check(A,B,pi)\n",
    "    \n",
    "    s = list()\n",
    "    o = list()\n",
    "    \n",
    "    s.append(list(np.random.choice(pi.keys(), 1, pi.values()))[0])\n",
    "    for i in xrange(1,n_obs):\n",
    "        trans_dist = A[s[i-1]]\n",
    "        s.append(list(np.random.choice(trans_dist.keys(), 1, trans_dist.values()))[0]) \n",
    "    \n",
    "    for s_i in s:\n",
    "        emis_dist = B[s_i]\n",
    "        o.append(list(np.random.choice(emis_dist.keys(), 1, emis_dist.values()))[0])\n",
    "    \n",
    "    return(s,o)\n",
    "    \n",
    "    \n",
    "    "
   ]
  },
  {
   "cell_type": "code",
   "execution_count": 78,
   "metadata": {
    "collapsed": false
   },
   "outputs": [],
   "source": [
    "s,o = generate_HMM_obs(A, B, pi, n_obs=10)"
   ]
  },
  {
   "cell_type": "code",
   "execution_count": 79,
   "metadata": {
    "collapsed": false
   },
   "outputs": [
    {
     "data": {
      "text/plain": [
       "['ba', 'bb', 'ba', 'bb', 'ba', 'ab', 'ab', 'aa', 'aa', 'aa']"
      ]
     },
     "execution_count": 79,
     "metadata": {},
     "output_type": "execute_result"
    }
   ],
   "source": [
    "o"
   ]
  },
  {
   "cell_type": "code",
   "execution_count": 82,
   "metadata": {
    "collapsed": true
   },
   "outputs": [],
   "source": [
    "def calc_prob(o, s, B):\n",
    "    base = 10\n",
    "    log_p = math.log(1, base)\n",
    "    for o_i, s_i in zip(o,s):\n",
    "        log_p += math.log(B[s_i][o_i], base)\n",
    "        print(o_i, s_i, B[s_i][o_i])\n",
    "    return(math.pow(base, log_p))"
   ]
  },
  {
   "cell_type": "code",
   "execution_count": 83,
   "metadata": {
    "collapsed": false
   },
   "outputs": [
    {
     "name": "stdout",
     "output_type": "stream",
     "text": [
      "('ba', 'b', 0.1)\n",
      "('bb', 'a', 0.1)\n",
      "('ba', 'a', 0.1)\n",
      "('bb', 'a', 0.1)\n",
      "('ba', 'b', 0.1)\n",
      "('ab', 'b', 0.1)\n",
      "('ab', 'a', 0.2)\n",
      "('aa', 'b', 0.1)\n",
      "('aa', 'b', 0.1)\n",
      "('aa', 'a', 0.3)\n"
     ]
    },
    {
     "data": {
      "text/plain": [
       "6.000000000000028e-10"
      ]
     },
     "execution_count": 83,
     "metadata": {},
     "output_type": "execute_result"
    }
   ],
   "source": [
    "calc_prob(o, s, B)"
   ]
  },
  {
   "cell_type": "code",
   "execution_count": 91,
   "metadata": {
    "collapsed": true
   },
   "outputs": [],
   "source": [
    "def viterbi(o, pi, A, B):\n",
    "    #Initialization\n",
    "    delta = [{}]\n",
    "    psi = [{}]\n",
    "    states = A.keys()\n",
    "    for state in states:\n",
    "        delta[0][state] = pi[state]*B[state][o[0]]\n",
    "        psi[0][state] = 0 \n",
    "    \n",
    "    for t in range(1, len(o)):\n",
    "        delta.append({})\n",
    "        psi.append({})\n",
    "        for state in states:\n",
    "            max_delta_state = -sys.float_info.max\n",
    "            max_psi_state = None\n",
    "            for prev_state in states:\n",
    "                is_max_tmp_delta = False\n",
    "                tmp_delta = delta[t-1][prev_state]*A[prev_state][state]\n",
    "                if tmp_delta > max_delta_state:\n",
    "                    is_max_tmp_delta = True\n",
    "                tmp_delta = tmp_delta * B[state][o[t]]\n",
    "                if is_max_tmp_delta:\n",
    "                    max_delta_state = tmp_delta\n",
    "                    max_psi_state = prev_state\n",
    "                    \n",
    "            delta[t][state] = max_delta_state\n",
    "            psi[t][state] = max_psi_state\n",
    "                    \n",
    "    print(delta)\n",
    "    print(psi)\n",
    "    return(delta, psi)\n",
    "            "
   ]
  },
  {
   "cell_type": "code",
   "execution_count": 92,
   "metadata": {
    "collapsed": false
   },
   "outputs": [
    {
     "name": "stdout",
     "output_type": "stream",
     "text": [
      "[{'a': 0.05, 'b': 0.05}, {'a': 0.0025000000000000005, 'b': 0.005000000000000001}, {'a': 0.00025000000000000006, 'b': 0.00025000000000000006}, {'a': 1.2500000000000004e-05, 'b': 2.5000000000000008e-05}, {'a': 1.2500000000000005e-06, 'b': 1.2500000000000005e-06}, {'a': 1.2500000000000005e-07, 'b': 6.250000000000002e-08}, {'a': 6.250000000000003e-09, 'b': 3.1250000000000015e-09}, {'a': 1.6875000000000008e-09, 'b': 1.5625000000000008e-10}, {'a': 4.556250000000002e-10, 'b': 7.812500000000004e-12}, {'a': 1.2301875000000005e-10, 'b': 4.5562500000000025e-12}]\n",
      "[{'a': 0, 'b': 0}, {'a': 'b', 'b': 'b'}, {'a': 'b', 'b': 'b'}, {'a': 'b', 'b': 'b'}, {'a': 'b', 'b': 'b'}, {'a': 'b', 'b': 'b'}, {'a': 'b', 'b': 'b'}, {'a': 'a', 'b': 'b'}, {'a': 'a', 'b': 'b'}, {'a': 'a', 'b': 'a'}]\n"
     ]
    }
   ],
   "source": [
    "delta, psi = viterbi(o, pi, A, B)"
   ]
  },
  {
   "cell_type": "code",
   "execution_count": 93,
   "metadata": {
    "collapsed": false
   },
   "outputs": [
    {
     "data": {
      "text/plain": [
       "[{'a': 0.05, 'b': 0.05},\n",
       " {'a': 0.0025000000000000005, 'b': 0.005000000000000001},\n",
       " {'a': 0.00025000000000000006, 'b': 0.00025000000000000006},\n",
       " {'a': 1.2500000000000004e-05, 'b': 2.5000000000000008e-05},\n",
       " {'a': 1.2500000000000005e-06, 'b': 1.2500000000000005e-06},\n",
       " {'a': 1.2500000000000005e-07, 'b': 6.250000000000002e-08},\n",
       " {'a': 6.250000000000003e-09, 'b': 3.1250000000000015e-09},\n",
       " {'a': 1.6875000000000008e-09, 'b': 1.5625000000000008e-10},\n",
       " {'a': 4.556250000000002e-10, 'b': 7.812500000000004e-12},\n",
       " {'a': 1.2301875000000005e-10, 'b': 4.5562500000000025e-12}]"
      ]
     },
     "execution_count": 93,
     "metadata": {},
     "output_type": "execute_result"
    }
   ],
   "source": [
    "delta"
   ]
  },
  {
   "cell_type": "code",
   "execution_count": 94,
   "metadata": {
    "collapsed": false
   },
   "outputs": [
    {
     "data": {
      "text/plain": [
       "[{'a': 0, 'b': 0},\n",
       " {'a': 'b', 'b': 'b'},\n",
       " {'a': 'b', 'b': 'b'},\n",
       " {'a': 'b', 'b': 'b'},\n",
       " {'a': 'b', 'b': 'b'},\n",
       " {'a': 'b', 'b': 'b'},\n",
       " {'a': 'b', 'b': 'b'},\n",
       " {'a': 'a', 'b': 'b'},\n",
       " {'a': 'a', 'b': 'b'},\n",
       " {'a': 'a', 'b': 'a'}]"
      ]
     },
     "execution_count": 94,
     "metadata": {},
     "output_type": "execute_result"
    }
   ],
   "source": [
    "psi"
   ]
  },
  {
   "cell_type": "code",
   "execution_count": 71,
   "metadata": {
    "collapsed": false
   },
   "outputs": [
    {
     "data": {
      "text/plain": [
       "{'a': {'a': 0.9, 'b': 0.1}, 'b': {'a': 0.5, 'b': 0.5}}"
      ]
     },
     "execution_count": 71,
     "metadata": {},
     "output_type": "execute_result"
    }
   ],
   "source": [
    "A"
   ]
  },
  {
   "cell_type": "code",
   "execution_count": 44,
   "metadata": {
    "collapsed": false
   },
   "outputs": [
    {
     "data": {
      "text/plain": [
       "['a', 'b']"
      ]
     },
     "execution_count": 44,
     "metadata": {},
     "output_type": "execute_result"
    }
   ],
   "source": [
    "A.keys()"
   ]
  },
  {
   "cell_type": "code",
   "execution_count": 59,
   "metadata": {
    "collapsed": false
   },
   "outputs": [
    {
     "data": {
      "text/plain": [
       "'bb'"
      ]
     },
     "execution_count": 59,
     "metadata": {},
     "output_type": "execute_result"
    }
   ],
   "source": [
    "o[0]"
   ]
  },
  {
   "cell_type": "code",
   "execution_count": 62,
   "metadata": {
    "collapsed": false
   },
   "outputs": [
    {
     "data": {
      "text/plain": [
       "0"
      ]
     },
     "execution_count": 62,
     "metadata": {},
     "output_type": "execute_result"
    }
   ],
   "source": [
    "B['a']['bb']"
   ]
  },
  {
   "cell_type": "code",
   "execution_count": null,
   "metadata": {
    "collapsed": true
   },
   "outputs": [],
   "source": [
    "#use biological state to determine pi\n",
    "#update pi\n",
    "\n",
    "#think about how we should be sampling for building these Markov models\n",
    "#is it better to sample frequently? over a long time? many people?\n",
    "#have a perfect generative model and try to recover the information\n",
    "\n",
    "#latent markov models\n"
   ]
  }
 ],
 "metadata": {
  "kernelspec": {
   "display_name": "Python 2",
   "language": "python",
   "name": "python2"
  },
  "language_info": {
   "codemirror_mode": {
    "name": "ipython",
    "version": 2
   },
   "file_extension": ".py",
   "mimetype": "text/x-python",
   "name": "python",
   "nbconvert_exporter": "python",
   "pygments_lexer": "ipython2",
   "version": "2.7.10"
  }
 },
 "nbformat": 4,
 "nbformat_minor": 0
}
